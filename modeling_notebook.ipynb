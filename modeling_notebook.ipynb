{
 "cells": [
  {
   "cell_type": "markdown",
   "metadata": {},
   "source": [
    "# Modeling\n",
    "\n",
    "## Goal\n",
    "The goal of this notebook is to create a musical track recommendation system by using the utility matrix created from `preprocessing_notebook.ipynb`. Non-negative Matrix Factorization (NMF) and cosine similarity will be employed by the system to generate the track recommendations.\n",
    "\n",
    "In order for all code in this notebook to execute properly, you will need your own unique Client ID and Client Secret. Here is how to create a Spotify Web App through Spotify for Developers to obtain them:\n",
    "   * Create Spotify profile or sign in with your Spotify credentials [here](https://developer.spotify.com/dashboard/applications).\n",
    "   * On the Spotify for Developers Dashboard, navigate to the \"Create An App\" button and fill-in/agree to all items.\n",
    "   * Your unique Client ID and Client Secret will then be displayed within your newly created Web App."
   ]
  },
  {
   "cell_type": "code",
   "execution_count": null,
   "metadata": {},
   "outputs": [],
   "source": [
    "# Import entire modules\n",
    "import json\n",
    "import matplotlib.pyplot as plt\n",
    "import numpy as np\n",
    "import pandas as pd\n",
    "import spotipy\n",
    " \n",
    "# Import specific functions from modules\n",
    "from sklearn.decomposition import NMF\n",
    "from sklearn.metrics.pairwise import cosine_similarity\n",
    "from scipy.sparse import load_npz\n",
    "from spotipy.oauth2 import SpotifyClientCredentials\n",
    "\n",
    "####################################################################################\n",
    "######### Provide your unique Client ID and Client Secret as strings below #########\n",
    "####################################################################################\n",
    "SPOTIPY_CLIENT_ID = '783c6059be8b4b55b4de34eab5839513'\n",
    "SPOTIPY_CLIENT_SECRET = 'cbaff73f03174ba585d7777c73508017'\n",
    "####################################################################################\n",
    "\n",
    "# Establish Client Credentials Flow\n",
    "auth_manager = SpotifyClientCredentials(SPOTIPY_CLIENT_ID, SPOTIPY_CLIENT_SECRET)\n",
    "sp = spotipy.Spotify(auth_manager=auth_manager)"
   ]
  },
  {
   "cell_type": "markdown",
   "metadata": {},
   "source": [
    "## Load Data"
   ]
  },
  {
   "cell_type": "markdown",
   "metadata": {},
   "source": [
    "Let's load in the utility matrix, list of track URIs, and list of playlists that were created from the `preprocessing_notebook.ipynb` notebook:"
   ]
  },
  {
   "cell_type": "code",
   "execution_count": null,
   "metadata": {},
   "outputs": [],
   "source": [
    "# Output Expectation: 1000000x2262292 sparse matrix\n",
    "U = load_npz('./tmp/U.npz')\n",
    "U"
   ]
  },
  {
   "cell_type": "markdown",
   "metadata": {},
   "source": [
    "Notice that only 65,464,776 elements are stored in the utility matrix. According to `stats.txt`, which was provided by the data package and provides a basic summary of particular aspects of the dataset, there should be a total of 66,346,428 elements. It appears that ~1.3% of the tracks (aka 881,652 tracks) was lost when using the multilabel binarizer. Although, not majorly significant, I found it interesting enough to point out and perhaps resolve at a later time. "
   ]
  },
  {
   "cell_type": "code",
   "execution_count": null,
   "metadata": {},
   "outputs": [],
   "source": [
    "# Output Expectation for length of `tracks`: 2262292\n",
    "tracks = np.load('./tmp/tracks.npy', allow_pickle=True)\n",
    "display(len(tracks))\n",
    "display(tracks)"
   ]
  },
  {
   "cell_type": "code",
   "execution_count": null,
   "metadata": {},
   "outputs": [],
   "source": [
    "# Output Expectation for length of `playlists`: 1000000\n",
    "playlists = np.load('./tmp/playlists.npy', allow_pickle=True)\n",
    "display(len(playlists))\n",
    "display(playlists)"
   ]
  },
  {
   "cell_type": "markdown",
   "metadata": {},
   "source": [
    "## NMF\n",
    "\n",
    "Since there are so many tracks and playlists in the utility matrix, a dimensionality reduction algorithm needs to be employed, which is where NMF comes in. NMF factorizes one matrix with non-negative elements, in our case the utility matrix, into two separate matrices, W and H, which will resultingly also have non-negative elements. The non-negativity of the elements allows the resulting factorized matrices to be more easily interpretable."
   ]
  },
  {
   "cell_type": "markdown",
   "metadata": {},
   "source": [
    "<center> $$U = WH$$ <center>"
   ]
  },
  {
   "cell_type": "markdown",
   "metadata": {},
   "source": [
    "One dimension of the each of the factorized matrices will be significantly smaller, and in that dimension is where interesting, hidden features can be identified. The exact size of this dimension can also be tuned, and, as such, this is where the majority of my experimentation stemmed from. I used various hidden feature amounts (aka `n_components`) ranging from 2 to 10, and I began to notice that the algorithm was trying to match a major genre with each hidden feature. However, when the hidden feature amount was too small or too large, the algorithm wasn't optimized. This was easily identifiable when looking at the actual genres associated with the top tracks in each hidden feature and observing genre overlap amongst the top tracks. With that being said, the algorithm seemed to be categorizing tracks by genre at its best with 4 hidden features, which is why I have set `n_components` to 4 below.\n",
    "\n",
    "**NOTICE**: This block of code will take a while to run if code is uncommented out. It is recommended to simply load in the W and H matrices."
   ]
  },
  {
   "cell_type": "code",
   "execution_count": null,
   "metadata": {},
   "outputs": [],
   "source": [
    "n_components = 4\n",
    "\n",
    "# # Uncomment the code below if you wish to try out different `n_components`\n",
    "# model = NMF(n_components, verbose=10, random_state=1)\n",
    "# H = model.fit_transform(U)\n",
    "# W = model.components_\n",
    "\n",
    "# np.save(f'./tmp/W_{n_components}.npy', W)\n",
    "# np.save(f'./tmp/H_{n_components}.npy', H)"
   ]
  },
  {
   "cell_type": "code",
   "execution_count": null,
   "metadata": {},
   "outputs": [],
   "source": [
    "W = np.load(f'./tmp/W_{n_components}.npy', allow_pickle=True)\n",
    "H = np.load(f'./tmp/H_{n_components}.npy', allow_pickle=True)"
   ]
  },
  {
   "cell_type": "code",
   "execution_count": null,
   "metadata": {},
   "outputs": [],
   "source": [
    "# Output Expectation for `W.shape`: (4, 2262292)\n",
    "# Output Expectation for `H.shape`: (1000000, 4)\n",
    "display(W.shape)\n",
    "display(H.shape)"
   ]
  },
  {
   "cell_type": "markdown",
   "metadata": {},
   "source": [
    "The utility matrix has now be factorized into two matrices, `W` and `H`. `W` represents hidden features/genres vs. tracks, whereas `H` represents playlists vs. hidden features/genres.\n",
    "\n",
    "The following function, `interpret_track`, inputs new lines within long track names and inbetween artist names in order to clean up the text displayed in the plotting function below, `plot_top_tracks`."
   ]
  },
  {
   "cell_type": "code",
   "execution_count": null,
   "metadata": {},
   "outputs": [],
   "source": [
    "def interpret_track(track_name, track_artists):\n",
    "    \n",
    "    track_name_counter = 0\n",
    "    updated_track_name = ''\n",
    "    \n",
    "    track_name_list = track_name.split(' ')\n",
    "    for word in track_name_list:\n",
    "        track_name_counter += len(word)\n",
    "        if track_name_counter <= 20:\n",
    "            updated_track_name += word + \" \"\n",
    "        else:\n",
    "            track_name_counter = 0\n",
    "            updated_track_name += \"\\n\" + word + \" \"\n",
    "            \n",
    "    \n",
    "    interpretable_track = ''\n",
    "    \n",
    "    if len(track_artists) == 1:\n",
    "        interpretable_track = updated_track_name + \"\\nby \" + track_artists[0]\n",
    "    elif len(track_artists) == 2:\n",
    "        interpretable_track = updated_track_name + \"\\nby \" + track_artists[0] + \"\\nand \" + track_artists[1]\n",
    "    else:\n",
    "        for index in range(len(track_artists)):\n",
    "            if index == 0:\n",
    "                interpretable_track = updated_track_name + \"\\nby \" + track_artists[index] + \",\"\n",
    "            elif (index > 0) and (index < len(track_artists) - 1):\n",
    "                interpretable_track += \"\\n\" + track_artists[index] + \",\"\n",
    "            else:\n",
    "                interpretable_track += \"\\nand \" + track_artists[index]\n",
    "                \n",
    "    return interpretable_track"
   ]
  },
  {
   "cell_type": "markdown",
   "metadata": {},
   "source": [
    "The following function, `plot_top_tracks`, takes the factorized matrix, `W`, which consists of hidden features associated with tracks, and plots the top tracks in each hidden feature. This function was adapted from a Jupyter Notebook found within Praveen Gowtham's GitHub repository located [here](https://github.com/admveen/NMF_tutorial/blob/master/CVID19_Analysis.ipynb)."
   ]
  },
  {
   "cell_type": "code",
   "execution_count": null,
   "metadata": {},
   "outputs": [],
   "source": [
    "def plot_top_tracks(n_components, W, tracks, num_top_tracks, title):\n",
    "    \n",
    "    colors = ['seagreen', 'chocolate', 'darkblue', 'firebrick']\n",
    "    \n",
    "    fig, axes = plt.subplots(1, n_components, figsize=(30, 15), sharex=True)\n",
    "    axes = axes.flatten()\n",
    "    \n",
    "    for index, values in enumerate(W):\n",
    "        top_tracks_index = values.argsort()[: -num_top_tracks - 1 : -1]\n",
    "        top_tracks = [tracks[i] for i in top_tracks_index]\n",
    "        \n",
    "        \n",
    "        # Pull track names and artist names using Spotify API\n",
    "        interpretable_top_tracks = []\n",
    "        for top_track in top_tracks:\n",
    "            track = sp.track(top_track)\n",
    "            track_name = track['name']\n",
    "            track_artists = [track['artists'][index]['name'] for index in range(len(track['artists']))]\n",
    "            interpretable_top_tracks.append(interpret_track(track_name, track_artists))\n",
    "        weights = values[top_tracks_index]\n",
    "\n",
    "        ax = axes[index]\n",
    "        ax.barh(interpretable_top_tracks, weights, height=0.6, color=colors[index])\n",
    "        ax.set_title(f\"Genre {index + 1}\", fontdict={\"fontsize\": 20})\n",
    "        ax.invert_yaxis()\n",
    "        ax.tick_params(axis=\"both\", which=\"major\", labelsize=15)\n",
    "        for border_line in \"top right\".split():\n",
    "            ax.spines[border_line].set_visible(False)\n",
    "        fig.suptitle(title, fontsize=25)\n",
    "\n",
    "    plt.subplots_adjust(top=0.90, bottom=0.05, wspace=0.90, hspace=0.3)\n",
    "    plt.show()"
   ]
  },
  {
   "cell_type": "code",
   "execution_count": null,
   "metadata": {},
   "outputs": [],
   "source": [
    "num_top_tracks = 10\n",
    "\n",
    "plot_top_tracks(n_components, W, tracks, num_top_tracks, \"Genres in NMF Model\")"
   ]
  },
  {
   "cell_type": "markdown",
   "metadata": {},
   "source": [
    "Notice that Genre 1 is mainly associated with Hip-Hop/Rap, Genre 2 with Pop/EDM, Genre 3 with Rock, and Genre 4 with Country."
   ]
  },
  {
   "cell_type": "code",
   "execution_count": null,
   "metadata": {},
   "outputs": [],
   "source": [
    "genres = ['Hip-Hop/Rap', 'Pop/EDM', 'Rock', 'Country']\n",
    "colors = ['seagreen', 'chocolate', 'darkblue', 'firebrick']"
   ]
  },
  {
   "cell_type": "markdown",
   "metadata": {},
   "source": [
    "## Selecting a Playlist\n",
    "\n",
    "Now, let's pull a specfic playlist that we would like to recommend tracks for. I personally enjoy playlist 253,699, which consists of EDM music."
   ]
  },
  {
   "cell_type": "code",
   "execution_count": null,
   "metadata": {},
   "outputs": [],
   "source": [
    "playlist_0 = 253699"
   ]
  },
  {
   "cell_type": "markdown",
   "metadata": {},
   "source": [
    "The following function, `track_uris_from_playlist`, returns a list of track URIs and a list of track indices associated with the tracks in `playlist_0`. The parameters of the function are the playlist number, `playlist_0`, and the list of all track URIs, `tracks`. The track URIs are useful for pulling track names and artist names from the Spotify API, which is what the next function is designed for."
   ]
  },
  {
   "cell_type": "code",
   "execution_count": null,
   "metadata": {},
   "outputs": [],
   "source": [
    "def track_uris_from_playlist(playlist_0, tracks):\n",
    "    \n",
    "    np_playlist_0 = U[playlist_0].toarray()\n",
    "    playlist_track_indices = np.where(np_playlist_0[0] == 1)[0]\n",
    "    tracks_in_playlist_0 = [tracks[i] for i in playlist_track_indices]\n",
    "    \n",
    "    return (tracks_in_playlist_0, playlist_track_indices)"
   ]
  },
  {
   "cell_type": "markdown",
   "metadata": {},
   "source": [
    "The following function, `interpretable_tracks_in_playlist`, returns a list of tracks from `playlist_0` with their names and artists by using the Spotify API."
   ]
  },
  {
   "cell_type": "code",
   "execution_count": null,
   "metadata": {
    "scrolled": false
   },
   "outputs": [],
   "source": [
    "def interpretable_tracks_in_playlist(playlist_0, tracks):\n",
    "\n",
    "    interpretable_tracks_in_playlist_0 = []\n",
    "    \n",
    "    tracks_in_playlist_0 = track_uris_from_playlist(playlist_0, tracks)[0]\n",
    "    for track_uri in tracks_in_playlist_0:\n",
    "        track = sp.track(track_uri)\n",
    "        track_name = track['name']\n",
    "        track_artists = [track['artists'][index]['name'] for index in range(len(track['artists']))]\n",
    "        interpretable_tracks_in_playlist_0.append(interpret_track(track_name, track_artists))\n",
    "\n",
    "    return interpretable_tracks_in_playlist_0"
   ]
  },
  {
   "cell_type": "markdown",
   "metadata": {},
   "source": [
    "Let's now take a look at the tracks in our playlist."
   ]
  },
  {
   "cell_type": "code",
   "execution_count": null,
   "metadata": {
    "scrolled": true
   },
   "outputs": [],
   "source": [
    "for index, track in enumerate(interpretable_tracks_in_playlist(playlist_0, tracks)):\n",
    "    print('Track', index+1, ':')\n",
    "    print(track)\n",
    "    print(\"\\n\")"
   ]
  },
  {
   "cell_type": "markdown",
   "metadata": {},
   "source": [
    "They sure do seem like EDM tracks to me.\n",
    "\n",
    "The following function, `playlist_verification`, verifies that all of the tracks in `playlist_0` are present. It does this by comparing the tracks in `playlist_0` to the tracks found in the original JSON source file. This is useful since a small portion of the tracks in the utility matrix are missing. This function assures you that the playlist you wish to generate recommendations for is accurate when compared to it's original source."
   ]
  },
  {
   "cell_type": "code",
   "execution_count": null,
   "metadata": {},
   "outputs": [],
   "source": [
    "def playlist_verification(playlist_0, tracks):\n",
    "    \n",
    "    tracks_in_playlist_0 = track_uris_from_playlist(playlist_0, tracks)[0]\n",
    "    \n",
    "    f = open(f'./spotify_million_playlist_dataset/data/mpd.slice.{str(playlist_0)[:3]}000-{str(playlist_0)[:3]}999.json')\n",
    "    d = json.load(f)\n",
    "    tracks_in_playlist_file = [d['playlists'][int(str(playlist_0)[-3:])]['tracks'][i]['track_uri']\\\n",
    "                               for i in range(len(d['playlists'][int(str(playlist_0)[-3:])]['tracks']))]\n",
    "    \n",
    "    tracks_in_playlist_0.sort()\n",
    "    tracks_in_playlist_file.sort()\n",
    "    \n",
    "    return tracks_in_playlist_0 == tracks_in_playlist_file"
   ]
  },
  {
   "cell_type": "code",
   "execution_count": null,
   "metadata": {},
   "outputs": [],
   "source": [
    "# Output Expectation: True\n",
    "# If False, I recommend choosing a different playlist.\n",
    "playlist_verification(playlist_0, tracks)"
   ]
  },
  {
   "cell_type": "markdown",
   "metadata": {},
   "source": [
    "Great! Now that we have verified our playlist and seen first hand that our playlist has EDM tracks, let's take a look at the hidden feature/genre distribution of the playlist to see if our model categorized these tracks in the correct genre. This will require accessing `H`, the facorized matrix that consists of hidden features associated with playlists."
   ]
  },
  {
   "cell_type": "code",
   "execution_count": null,
   "metadata": {},
   "outputs": [],
   "source": [
    "H_0 = H[playlist_0]"
   ]
  },
  {
   "cell_type": "markdown",
   "metadata": {},
   "source": [
    "The following function, `plot_playlist_genre_distribution`, plots the genre distribution within the playlist."
   ]
  },
  {
   "cell_type": "code",
   "execution_count": null,
   "metadata": {},
   "outputs": [],
   "source": [
    "def plot_playlist_genre_distribution(H_0, genres, colors):\n",
    "    \n",
    "    H_0_percent_distribution = [value/np.sum(H_0) for value in H_0]\n",
    "\n",
    "    playlist_genre_distribution = []\n",
    "    playlist_colors = []\n",
    "    \n",
    "    for index in np.array(H_0_percent_distribution).argsort():\n",
    "        playlist_genre_distribution.append(genres[index])\n",
    "        playlist_colors.append(colors[index])\n",
    "    \n",
    "    fig, ax = plt.subplots(figsize=(6, 4))\n",
    "    ax.barh(y=playlist_genre_distribution, width=np.sort(H_0_percent_distribution)*100, height=0.6, color=playlist_colors)\n",
    "    ax.set_title(\"Genre Distribution (%) Within Playlist\", fontdict={\"fontsize\": 14})\n",
    "    ax.set_xticks([num for num in range(0, 110, 10)])\n",
    "    for border_line in \"top right\".split():\n",
    "        ax.spines[border_line].set_visible(False)\n",
    "    \n",
    "    plt.show()"
   ]
  },
  {
   "cell_type": "code",
   "execution_count": null,
   "metadata": {},
   "outputs": [],
   "source": [
    "plot_playlist_genre_distribution(H_0, genres, colors)"
   ]
  },
  {
   "cell_type": "markdown",
   "metadata": {},
   "source": [
    "This confirms playlist 253,699 does consist of mainly Pop/EDM tracks."
   ]
  },
  {
   "cell_type": "markdown",
   "metadata": {},
   "source": [
    "## Cosine Similarity\n",
    "Now that we have selected our playlist and understand the genre distribution within the playlist, it is time to perform pair-wise cosine similarity between our playlist and all tracks. In doing this, we can find tracks that are most similar to our playlist and ultimately recommend those.\n",
    "\n",
    "Cosine similarity defines the cosine of the angle between two vectors as the dot product between the two vectors divided by the product of the magnitude of the two vectors, like so:"
   ]
  },
  {
   "cell_type": "markdown",
   "metadata": {},
   "source": [
    "<center> $$ \\cos_{track}(\\theta) = \\frac{H_0 \\cdot W^T_{track}}{||H_0||||W^T_{track}||}$$ <center>"
   ]
  },
  {
   "cell_type": "markdown",
   "metadata": {},
   "source": [
    "Notice in the equation that we need to transpose the factorized matrix `W`. This is necessary so that there is no dimension incompatibility when performing pair-wise cosine similarity between our playlist and each track. After transposing `W`, cosine similarity can then be executed, and the cosine valus can be sorted from highest to lowest (highest being 1 and lowest being 0 in our case). Additionally, the indices for the cosine values can be obtained, specifically for the high cosine values, and these indices correlate directly to the indices of `tracks`, which has all of the Spotify track URIs. From there, we can begin adding tracks to a recommendation list, as long as the track is not already in the playlist and the track has a popularity score above 5, according to Spotify's popularity metric from 0 to 100. I decided to include this popularity metric as a factor to consider before adding a track to the recommendation list because I was noticing that many tracks that were being recommended were subjectively not good. I began to notice that most of these poor sounding tracks had a Spotify popularity score between 0 and 5, which is why I chose 5 as a cutoff. What I have explained in this segment is precisely what the function, `track_recommendations`, performs."
   ]
  },
  {
   "cell_type": "code",
   "execution_count": null,
   "metadata": {},
   "outputs": [],
   "source": [
    "def track_recommendations(num_recommendations, W, H_0, playlist_0, tracks):\n",
    "    \n",
    "    # Transpose `W`\n",
    "    W_T = np.transpose(W)\n",
    "    \n",
    "    # The following commented code was an attempt to distribute the genres for tracks\n",
    "    # and playlists via percentage before executing cosine similarity, but cosine similarity \n",
    "    # already takes this into account. Still felt like leaving the code here because it\n",
    "    # could be useful down the road.\n",
    "    # H_0_percent_distribution = [value/np.sum(H_0) for value in H_0]\n",
    "    # W_T_percent_distribution = []\n",
    "    # for track_weights in W_T:\n",
    "    #     track_percent_distribution = []\n",
    "    #     if np.sum(track_weights) == 0:\n",
    "    #         for weight in track_weights:\n",
    "    #             track_percent_distribution.append(weight)\n",
    "    #     else:\n",
    "    #         for weight in track_weights:\n",
    "    #             track_percent_distribution.append(weight/np.sum(track_weights))\n",
    "    #     W_T_percent_distribution.append(track_percent_distribution)   \n",
    "    # cos_sim = cosine_similarity([H_0_percent_distribution], W_T_percent_distribution)\n",
    "    \n",
    "    # Perform cosine similarity between `H_0` and `W_T`\n",
    "    cos_sim = cosine_similarity([H_0], W_T)\n",
    "        \n",
    "    # Sort values in `cos_sim` from highest to lowest,\n",
    "    # and obtain indices which correlate to track indices\n",
    "    track_recommendations = cos_sim[0].argsort()[:: -1]\n",
    "    \n",
    "    # Declare empty list, `final_recommendations_indices`\n",
    "    final_recommendations_indices = []\n",
    "    \n",
    "    # Loop through `track_recommendations`\n",
    "    for track_recommendation in track_recommendations:\n",
    "        track_recommendation_in_playlist_0 = False\n",
    "        \n",
    "        # End `for` loop when length of `final_recommendations_indices`\n",
    "        # is equal to `num_recommendations`\n",
    "        if len(final_recommendations_indices) == num_recommendations:\n",
    "            break\n",
    "        else:\n",
    "            # Check to see if recommended track is already in `playlist_0`\n",
    "            for playlist_track_index in track_uris_from_playlist(playlist_0, tracks)[1]:\n",
    "                if playlist_track_index == track_recommendation:\n",
    "                    track_recommendation_in_playlist_0 = True\n",
    "                    break\n",
    "                else:\n",
    "                    continue\n",
    "            \n",
    "            # If recommended track is not in `playlist_0`, make sure the popularity of\n",
    "            # the track is at least above a 5 in accordance with Spotify API's \n",
    "            # popularity metric before adding to `final_recommendations_indices`\n",
    "            if track_recommendation_in_playlist_0 == False:\n",
    "                if sp.track(tracks[track_recommendation])['popularity'] > 5:\n",
    "                    final_recommendations_indices.append(track_recommendation)\n",
    "                else:\n",
    "                    continue\n",
    "            else:\n",
    "                continue\n",
    "                \n",
    "    # Pull track URIs for list of final recommended tracks\n",
    "    final_recommendation_uris = [tracks[i] for i in final_recommendations_indices]\n",
    "    \n",
    "    # Convert track URIs to interpretable track names with artist names\n",
    "    interpretable_final_recommendations = []\n",
    "    for final_recommendation_uri in final_recommendation_uris:\n",
    "        track = sp.track(final_recommendation_uri)\n",
    "        track_name = track['name']\n",
    "        track_artists = [track['artists'][index]['name'] for index in range(len(track['artists']))]\n",
    "        interpretable_final_recommendations.append(interpret_track(track_name, track_artists))\n",
    "\n",
    "    return final_recommendation_uris, interpretable_final_recommendations"
   ]
  },
  {
   "cell_type": "code",
   "execution_count": null,
   "metadata": {
    "scrolled": true
   },
   "outputs": [],
   "source": [
    "num_recommendations = 10\n",
    "\n",
    "recommendation_uris, recommendations = track_recommendations(num_recommendations, W, H_0, playlist_0, tracks)\n",
    "for index, track in enumerate(recommendations):\n",
    "    print('Track Recommendation', index+1, ':')\n",
    "    print(recommendation_uris[index])\n",
    "    print(track)\n",
    "    print(\"\\n\")"
   ]
  },
  {
   "cell_type": "markdown",
   "metadata": {},
   "source": [
    "Interestingly, of the top 10 recommended tracks, tracks 1, 3, 4, 5, and 9, were EDM related, and tracks 2, 5, 7, 8, and 10 were Spanish-speaking related. This isn't ideal, but I would say that of the 5 EDM tracks I subjectively like 3 of them (tracks 1, 3, and 4), and I've never heard of any of the artists before which is great for being exposed to new artists. Unfortunately, the Spotify API does not have a track language attribute, which would be ideal for identifying tracks that are not in the English language and excluding them from the recommendation list.\n",
    "\n",
    "I implore you to try out other playlists and see what the model recommends. Simply alter the `playlist_0` variabe as you please and run the two blocks of code to generate track recommendations."
   ]
  },
  {
   "cell_type": "code",
   "execution_count": null,
   "metadata": {
    "scrolled": false
   },
   "outputs": [],
   "source": [
    "playlist_0 = 869717\n",
    "\n",
    "H_0 = H[playlist_0]\n",
    "\n",
    "print(\"Playlist Verified:\", playlist_verification(playlist_0, tracks))\n",
    "\n",
    "plot_playlist_genre_distribution(H_0, genres, colors)\n",
    "\n",
    "# # Uncomment the code below if you wish to see the names of the tracks and their artists\n",
    "# for index, track in enumerate(interpretable_tracks_in_playlist(playlist_0, tracks)):\n",
    "#     print('Track', index+1, ':')\n",
    "#     print(track)\n",
    "#     print(\"\\n\")"
   ]
  },
  {
   "cell_type": "code",
   "execution_count": null,
   "metadata": {
    "scrolled": true
   },
   "outputs": [],
   "source": [
    "num_recommendations = 10\n",
    "\n",
    "recommendation_uris, recommendations = track_recommendations(num_recommendations, W, H_0, playlist_0, tracks)\n",
    "for index, track in enumerate(recommendations):\n",
    "    print('Track Recommendation', index+1, ':')\n",
    "    print(recommendation_uris[index])\n",
    "    print(track)\n",
    "    print(\"\\n\")"
   ]
  },
  {
   "cell_type": "markdown",
   "metadata": {},
   "source": [
    "## Appendix"
   ]
  },
  {
   "cell_type": "markdown",
   "metadata": {},
   "source": [
    "The following function, `plot_top_playlists`, takes a transposed factorized matrix, H, which consists of hidden features associated with playlists, and plots the top playlists in each hidden feature. This function can be particularly useful in identifing playlists that strongly lean towards a specific hidden feature. This function was adapted from a Jupyter Notebook found within Praveen Gowtham's GitHub repository located [here](https://github.com/admveen/NMF_tutorial/blob/master/CVID19_Analysis.ipynb)."
   ]
  },
  {
   "cell_type": "code",
   "execution_count": null,
   "metadata": {
    "scrolled": true
   },
   "outputs": [],
   "source": [
    "def plot_top_playlists(n_components, H_T, playlists, num_top_playlists, title):\n",
    "    fig, axes = plt.subplots(1, n_components, figsize=(20, 10), sharex=True)\n",
    "    axes = axes.flatten()\n",
    "    for index, values in enumerate(H_T):\n",
    "        top_playlists_index = values.argsort()[: -num_top_playlists - 1 : -1]\n",
    "        top_playlists = [str(playlists[i]) for i in top_playlists_index]\n",
    "        weights = values[top_playlists_index]\n",
    "        \n",
    "        ax = axes[index]\n",
    "        ax.barh(top_playlists, weights, height=0.7)\n",
    "        ax.set_title(f\"Genre {index + 1}\", fontdict={\"fontsize\": 20})\n",
    "        ax.invert_yaxis()\n",
    "        ax.tick_params(axis=\"both\", which=\"major\", labelsize=15)\n",
    "        for i in \"top right left\".split():\n",
    "            ax.spines[i].set_visible(False)\n",
    "        fig.suptitle(title, fontsize=25)\n",
    "\n",
    "    plt.subplots_adjust(top=0.90, bottom=0.05, wspace=0.90, hspace=0.3)\n",
    "    plt.show()\n",
    "\n",
    "H_T = np.transpose(H)\n",
    "plot_top_playlists(n_components, H_T, playlists, 10, \"Genres in NMF Model\")"
   ]
  },
  {
   "cell_type": "code",
   "execution_count": null,
   "metadata": {},
   "outputs": [],
   "source": [
    "# This function was useful when using percent distribution, which was found to be unnecessary.\n",
    "\n",
    "# def plot_top_tracks(n_components, W_T_percent_distribution, tracks, num_top_tracks, title):\n",
    "#     fig, axes = plt.subplots(1, n_components, figsize=(30, 12), sharex=True)\n",
    "#     axes = axes.flatten()\n",
    "#     W = np.transpose(np.asarray(W_T_percent_distribution))\n",
    "#     for index, values in enumerate(W):\n",
    "#         top_tracks_index = values.argsort()[: -num_top_tracks - 1 : -1]\n",
    "#         top_tracks = [tracks[i] for i in top_tracks_index]\n",
    "#         interpretable_top_tracks = []\n",
    "#         for top_track in top_tracks:\n",
    "#             track = sp.track(top_track)\n",
    "#             track_name = track['name']\n",
    "#             track_artists = [track['artists'][index]['name'] for index in range(len(track['artists']))]\n",
    "#             interpretable_top_tracks.append(interpret_track(track_name, track_artists))\n",
    "#         weights = values[top_tracks_index]\n",
    "\n",
    "#         ax = axes[index]\n",
    "#         ax.barh(interpretable_top_tracks, weights, height=0.7)\n",
    "#         ax.set_title(f\"Genre {index + 1}\", fontdict={\"fontsize\": 20})\n",
    "#         ax.invert_yaxis()\n",
    "#         ax.tick_params(axis=\"both\", which=\"major\", labelsize=15)\n",
    "#         for i in \"top right left\".split():\n",
    "#             ax.spines[i].set_visible(False)\n",
    "#         fig.suptitle(title, fontsize=25)\n",
    "\n",
    "#     plt.subplots_adjust(top=0.90, bottom=0.05, wspace=0.90, hspace=0.3)\n",
    "#     plt.show()\n",
    "\n",
    "# num_top_tracks = 10\n",
    "# plot_top_tracks(n_components, W_T_percent_distribution, tracks, num_top_tracks, \"Genres in NMF Model\")"
   ]
  },
  {
   "cell_type": "code",
   "execution_count": null,
   "metadata": {},
   "outputs": [],
   "source": [
    "# # Pull audio features of tracks from Spotify API\n",
    "# rec = sp.audio_features(['015IsLQFXbEm0f541N2qoX', '0ct6r3EGTcMLPtrXHDvVjc'])\n",
    "# rec"
   ]
  },
  {
   "cell_type": "code",
   "execution_count": null,
   "metadata": {},
   "outputs": [],
   "source": []
  }
 ],
 "metadata": {
  "kernelspec": {
   "display_name": "Python 3",
   "language": "python",
   "name": "python3"
  },
  "language_info": {
   "codemirror_mode": {
    "name": "ipython",
    "version": 3
   },
   "file_extension": ".py",
   "mimetype": "text/x-python",
   "name": "python",
   "nbconvert_exporter": "python",
   "pygments_lexer": "ipython3",
   "version": "3.8.5"
  }
 },
 "nbformat": 4,
 "nbformat_minor": 2
}
